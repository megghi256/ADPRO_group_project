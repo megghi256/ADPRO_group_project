{
 "cells": [
  {
   "cell_type": "code",
   "execution_count": 12,
   "id": "6de7ebc2-97dd-448b-a6bf-61c0d3a5ed26",
   "metadata": {},
   "outputs": [],
   "source": [
    "import os\n",
    "import requests\n",
    "\n",
    "class DataDownloader:\n",
    "    def __init__(self, url, filename):\n",
    "        self.url = url\n",
    "        self.filename = filename\n",
    "        self.download_path = os.path.join('downloads', self.filename)\n",
    "\n",
    "        # Ensure downloads/ directory exists\n",
    "        os.makedirs('downloads', exist_ok=True)\n",
    "\n",
    "        # Download the file if it does not exist\n",
    "        if not os.path.exists(self.download_path):\n",
    "            self.download_file()\n",
    "\n",
    "    def download_file(self):\n",
    "        try:\n",
    "            print(f\"Downloading {self.filename}...\")\n",
    "            response = requests.get(self.url)\n",
    "            response.raise_for_status()  # Raises an HTTPError if the response was an unsuccessful status code\n",
    "\n",
    "            with open(self.download_path, 'wb') as f:\n",
    "                f.write(response.content)\n",
    "            print(f\"Downloaded {self.filename} successfully.\")\n",
    "        except requests.RequestException as e:\n",
    "            print(f\"Failed to download {self.filename}: {e}\")\n",
    "\n",
    "# Example usage DataDownloader\n",
    "url = \"https://gitlab.com/adpro1/adpro2024/-/raw/main/Files/flight_data.zip?inline=false\"\n",
    "\n",
    "downloader = DataDownloader(url, filename)\n"
   ]
  },
  {
   "cell_type": "code",
   "execution_count": 11,
   "id": "3793abc2-a9cf-454a-99a9-ab692999cdef",
   "metadata": {},
   "outputs": [
    {
     "data": {
      "text/plain": [
       "<__main__.DataDownloader at 0x10a90cad0>"
      ]
     },
     "execution_count": 11,
     "metadata": {},
     "output_type": "execute_result"
    }
   ],
   "source": [
    "downloader"
   ]
  },
  {
   "cell_type": "code",
   "execution_count": null,
   "id": "cd4271d3-384e-4801-b466-82c50d1e5465",
   "metadata": {},
   "outputs": [],
   "source": []
  }
 ],
 "metadata": {
  "kernelspec": {
   "display_name": "Python 3 (ipykernel)",
   "language": "python",
   "name": "python3"
  },
  "language_info": {
   "codemirror_mode": {
    "name": "ipython",
    "version": 3
   },
   "file_extension": ".py",
   "mimetype": "text/x-python",
   "name": "python",
   "nbconvert_exporter": "python",
   "pygments_lexer": "ipython3",
   "version": "3.11.7"
  }
 },
 "nbformat": 4,
 "nbformat_minor": 5
}
