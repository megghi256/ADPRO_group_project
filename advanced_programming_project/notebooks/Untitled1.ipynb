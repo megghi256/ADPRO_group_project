{
 "cells": [
  {
   "cell_type": "code",
   "execution_count": 6,
   "id": "c3864285-8597-4731-83e6-c7044f3fa6e9",
   "metadata": {},
   "outputs": [
    {
     "name": "stderr",
     "output_type": "stream",
     "text": [
      "E\n",
      "======================================================================\n",
      "ERROR: /Users/margheritathermes/Library/Jupyter/runtime/kernel-36174e51-272d-44b3-beb6-fd4cc5facb04 (unittest.loader._FailedTest./Users/margheritathermes/Library/Jupyter/runtime/kernel-36174e51-272d-44b3-beb6-fd4cc5facb04)\n",
      "----------------------------------------------------------------------\n",
      "AttributeError: module '__main__' has no attribute '/Users/margheritathermes/Library/Jupyter/runtime/kernel-36174e51-272d-44b3-beb6-fd4cc5facb04'\n",
      "\n",
      "----------------------------------------------------------------------\n",
      "Ran 1 test in 0.001s\n",
      "\n",
      "FAILED (errors=1)\n"
     ]
    },
    {
     "ename": "SystemExit",
     "evalue": "True",
     "output_type": "error",
     "traceback": [
      "An exception has occurred, use %tb to see the full traceback.\n",
      "\u001b[0;31mSystemExit\u001b[0m\u001b[0;31m:\u001b[0m True\n"
     ]
    },
    {
     "name": "stderr",
     "output_type": "stream",
     "text": [
      "/Users/margheritathermes/anaconda3/envs/adpro/lib/python3.11/site-packages/IPython/core/interactiveshell.py:3561: UserWarning: To exit: use 'exit', 'quit', or Ctrl-D.\n",
      "  warn(\"To exit: use 'exit', 'quit', or Ctrl-D.\", stacklevel=1)\n"
     ]
    }
   ],
   "source": [
    "# src/utils/distance_calculations.py\n",
    "\n",
    "from math import radians, cos, sin, asin, sqrt\n",
    "\n",
    "def haversine(lat1, lon1, lat2, lon2):\n",
    "    \"\"\"\n",
    "    Calculate the great circle distance in kilometers between two points \n",
    "    on the earth (specified in decimal degrees)\n",
    "    \"\"\"\n",
    "    # convert decimal degrees to radians \n",
    "    lat1, lon1, lat2, lon2 = map(radians, [lat1, lon1, lat2, lon2])\n",
    "\n",
    "    # haversine formula \n",
    "    dlon = lon2 - lon1 \n",
    "    dlat = lat2 - lat1 \n",
    "    a = sin(dlat/2)**2 + cos(lat1) * cos(lat2) * sin(dlon/2)**2\n",
    "    c = 2 * asin(sqrt(a)) \n",
    "    r = 6371 # Radius of earth in kilometers. Use 3956 for miles\n",
    "    return c * r\n",
    "\n",
    "\n",
    "# tests/test_distance_calculations.py\n",
    "\n",
    "import unittest\n",
    "#from src.utils.distance_calculations import haversine\n",
    "\n",
    "class TestHaversineFunction(unittest.TestCase):\n",
    "    def test_distance_calculation(self):\n",
    "        # Test case for the distance between \n",
    "        # New York JFK Airport (JFK) and London Heathrow (LHR)\n",
    "        lat_jfk, lon_jfk = 40.6413111, -73.7781391\n",
    "        lat_lhr, lon_lhr = 51.4700223, -0.4542955\n",
    "        \n",
    "        distance = haversine(lat_jfk, lon_jfk, lat_lhr, lon_lhr)\n",
    "        expected_distance = 5547  # approximate distance in kilometers\n",
    "        \n",
    "        # Assert that the calculated distance is close to the expected distance\n",
    "        self.assertAlmostEqual(distance, expected_distance, delta=50)\n",
    "\n",
    "if __name__ == '__main__':\n",
    "    unittest.main()\n",
    "\n"
   ]
  },
  {
   "cell_type": "code",
   "execution_count": null,
   "id": "66f64377-15d2-4491-b364-c8e9280b54dc",
   "metadata": {},
   "outputs": [],
   "source": []
  }
 ],
 "metadata": {
  "kernelspec": {
   "display_name": "Python 3 (ipykernel)",
   "language": "python",
   "name": "python3"
  },
  "language_info": {
   "codemirror_mode": {
    "name": "ipython",
    "version": 3
   },
   "file_extension": ".py",
   "mimetype": "text/x-python",
   "name": "python",
   "nbconvert_exporter": "python",
   "pygments_lexer": "ipython3",
   "version": "3.11.7"
  }
 },
 "nbformat": 4,
 "nbformat_minor": 5
}
